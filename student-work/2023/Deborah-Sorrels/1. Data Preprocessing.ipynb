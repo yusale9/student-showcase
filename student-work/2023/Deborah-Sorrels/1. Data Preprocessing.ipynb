{
 "cells": [
  {
   "cell_type": "markdown",
   "metadata": {},
   "source": [
    "## Analyzing borrowers’ risk of defaulting\n",
    "\n",
    "Your project is to prepare a report for a bank’s loan division. You’ll need to find out if a customer’s marital status and number of children has an impact on whether they will default on a loan. The bank already has some data on customers’ credit worthiness.\n",
    "\n",
    "Your report will be considered when building a **credit scoring** of a potential customer. A ** credit scoring ** is used to evaluate the ability of a potential borrower to repay their loan."
   ]
  },
  {
   "cell_type": "markdown",
   "metadata": {},
   "source": [
    "<div class=\"alert alert-block alert-success\">\n",
    "<b>Third iteration</b>\n",
    "    <p>Great job D'vorah, it was pleasure to work with you on this project. Now let's start another one :)</p>\n",
    "</div>\n"
   ]
  },
  {
   "cell_type": "markdown",
   "metadata": {},
   "source": [
    "<div class=\"alert alert-block alert-warning\">\n",
    "<b>second iteration</b>\n",
    "    <p>Good job! We are almost done - in your analysis you use sums and lens when looking into the data. Try counting means there - you will be able to see what differs in debt. After that I think we will finish with this project</p>\n",
    "</div>"
   ]
  },
  {
   "cell_type": "markdown",
   "metadata": {},
   "source": [
    "### Reviewer's comments\n",
    "Hello D'vorah! My name is Anton Leonov, I will review your work and help you improve the project. My comments will be in those Markdown blocks. You can find my comments in <font color='green'>green</font>, <font color='amber'>yellow</font> or <font color='red'>red</font> boxes:\n",
    "\n",
    "<div class=\"alert alert-block alert-success\">\n",
    "<b>Success:</b> You did everything well, good job!\n",
    "</div>\n",
    "\n",
    "<div class=\"alert alert-block alert-warning\">\n",
    "<b>Remarks: </b> You passed the task, but I also suggest how to do this part better next time\n",
    "</div>\n",
    "\n",
    "<div class=\"alert alert-block alert-danger\">\n",
    "<b>Needs fixing:</b> those are some problems that need to be fixed before the work can be finished\n",
    "</div>\n",
    "I would kindly ask you not to delete my comments - this will allow both of us to be on track with the task."
   ]
  },
  {
   "cell_type": "markdown",
   "metadata": {},
   "source": [
    "### Reviewer's comments\n",
    "\n",
    "First of all, I'd like to add your comments and conclusions as Markdown comments and not comments in code - as it makes it a lot easier to follow the work. To do so, you either can edit cells that are already there for you (like \"Conclusion\" one after your data initialization), or add the new one - click on \"+\" at the top of the page and select the column to be from \"Code\" to \"Markdown\"\n",
    "\n"
   ]
  },
  {
   "cell_type": "markdown",
   "metadata": {},
   "source": [
    " Sorry.  I didn't realize what you meant by markdown.  I hope this is much better.  Thx"
   ]
  },
  {
   "cell_type": "markdown",
   "metadata": {},
   "source": [
    "### Step 1. Open the data file and have a look at the general information. "
   ]
  },
  {
   "cell_type": "code",
   "execution_count": 1,
   "metadata": {},
   "outputs": [
    {
     "name": "stdout",
     "output_type": "stream",
     "text": [
      "<class 'pandas.core.frame.DataFrame'>\n",
      "RangeIndex: 21525 entries, 0 to 21524\n",
      "Data columns (total 12 columns):\n",
      "children            21525 non-null int64\n",
      "days_employed       19351 non-null float64\n",
      "dob_years           21525 non-null int64\n",
      "education           21525 non-null object\n",
      "education_id        21525 non-null int64\n",
      "family_status       21525 non-null object\n",
      "family_status_id    21525 non-null int64\n",
      "gender              21525 non-null object\n",
      "income_type         21525 non-null object\n",
      "debt                21525 non-null int64\n",
      "total_income        19351 non-null float64\n",
      "purpose             21525 non-null object\n",
      "dtypes: float64(2), int64(5), object(5)\n",
      "memory usage: 2.0+ MB\n"
     ]
    }
   ],
   "source": [
    "import pandas as pd\n",
    "credit_score = pd.read_csv('/datasets/credit_scoring_eng.csv') \n",
    "\n",
    "credit_score.info()\n"
   ]
  },
  {
   "cell_type": "code",
   "execution_count": 2,
   "metadata": {},
   "outputs": [],
   "source": [
    "#print(credit_score['children'].value_counts())\n",
    "#print(credit_score['days_employed'].value_counts())\n",
    "#print(credit_score['dob_years'].value_counts())\n",
    "#print(credit_score['education'].value_counts())\n",
    "#print(credit_score['family_status'].value_counts())\n",
    "#print(credit_score['gender'].value_counts())\n",
    "#print(credit_score['income_type'].value_counts())\n",
    "#print(credit_score['debt'].value_counts())\n",
    "#print(credit_score['total_income'].value_counts())\n",
    "#print(credit_score['purpose'].value_counts())\n"
   ]
  },
  {
   "cell_type": "code",
   "execution_count": 3,
   "metadata": {},
   "outputs": [],
   "source": [
    "#credit_score.head(10)"
   ]
  },
  {
   "cell_type": "code",
   "execution_count": 4,
   "metadata": {},
   "outputs": [
    {
     "data": {
      "text/html": [
       "<div>\n",
       "<style scoped>\n",
       "    .dataframe tbody tr th:only-of-type {\n",
       "        vertical-align: middle;\n",
       "    }\n",
       "\n",
       "    .dataframe tbody tr th {\n",
       "        vertical-align: top;\n",
       "    }\n",
       "\n",
       "    .dataframe thead th {\n",
       "        text-align: right;\n",
       "    }\n",
       "</style>\n",
       "<table border=\"1\" class=\"dataframe\">\n",
       "  <thead>\n",
       "    <tr style=\"text-align: right;\">\n",
       "      <th></th>\n",
       "      <th>children</th>\n",
       "      <th>days_employed</th>\n",
       "      <th>dob_years</th>\n",
       "      <th>education_id</th>\n",
       "      <th>family_status_id</th>\n",
       "      <th>debt</th>\n",
       "      <th>total_income</th>\n",
       "    </tr>\n",
       "  </thead>\n",
       "  <tbody>\n",
       "    <tr>\n",
       "      <td>count</td>\n",
       "      <td>21525.000000</td>\n",
       "      <td>19351.000000</td>\n",
       "      <td>21525.000000</td>\n",
       "      <td>21525.000000</td>\n",
       "      <td>21525.000000</td>\n",
       "      <td>21525.000000</td>\n",
       "      <td>19351.000000</td>\n",
       "    </tr>\n",
       "    <tr>\n",
       "      <td>mean</td>\n",
       "      <td>0.538908</td>\n",
       "      <td>63046.497661</td>\n",
       "      <td>43.293380</td>\n",
       "      <td>0.817236</td>\n",
       "      <td>0.972544</td>\n",
       "      <td>0.080883</td>\n",
       "      <td>26787.568355</td>\n",
       "    </tr>\n",
       "    <tr>\n",
       "      <td>std</td>\n",
       "      <td>1.381587</td>\n",
       "      <td>140827.311974</td>\n",
       "      <td>12.574584</td>\n",
       "      <td>0.548138</td>\n",
       "      <td>1.420324</td>\n",
       "      <td>0.272661</td>\n",
       "      <td>16475.450632</td>\n",
       "    </tr>\n",
       "    <tr>\n",
       "      <td>min</td>\n",
       "      <td>-1.000000</td>\n",
       "      <td>-18388.949901</td>\n",
       "      <td>0.000000</td>\n",
       "      <td>0.000000</td>\n",
       "      <td>0.000000</td>\n",
       "      <td>0.000000</td>\n",
       "      <td>3306.762000</td>\n",
       "    </tr>\n",
       "    <tr>\n",
       "      <td>25%</td>\n",
       "      <td>0.000000</td>\n",
       "      <td>-2747.423625</td>\n",
       "      <td>33.000000</td>\n",
       "      <td>1.000000</td>\n",
       "      <td>0.000000</td>\n",
       "      <td>0.000000</td>\n",
       "      <td>16488.504500</td>\n",
       "    </tr>\n",
       "    <tr>\n",
       "      <td>50%</td>\n",
       "      <td>0.000000</td>\n",
       "      <td>-1203.369529</td>\n",
       "      <td>42.000000</td>\n",
       "      <td>1.000000</td>\n",
       "      <td>0.000000</td>\n",
       "      <td>0.000000</td>\n",
       "      <td>23202.870000</td>\n",
       "    </tr>\n",
       "    <tr>\n",
       "      <td>75%</td>\n",
       "      <td>1.000000</td>\n",
       "      <td>-291.095954</td>\n",
       "      <td>53.000000</td>\n",
       "      <td>1.000000</td>\n",
       "      <td>1.000000</td>\n",
       "      <td>0.000000</td>\n",
       "      <td>32549.611000</td>\n",
       "    </tr>\n",
       "    <tr>\n",
       "      <td>max</td>\n",
       "      <td>20.000000</td>\n",
       "      <td>401755.400475</td>\n",
       "      <td>75.000000</td>\n",
       "      <td>4.000000</td>\n",
       "      <td>4.000000</td>\n",
       "      <td>1.000000</td>\n",
       "      <td>362496.645000</td>\n",
       "    </tr>\n",
       "  </tbody>\n",
       "</table>\n",
       "</div>"
      ],
      "text/plain": [
       "           children  days_employed     dob_years  education_id  \\\n",
       "count  21525.000000   19351.000000  21525.000000  21525.000000   \n",
       "mean       0.538908   63046.497661     43.293380      0.817236   \n",
       "std        1.381587  140827.311974     12.574584      0.548138   \n",
       "min       -1.000000  -18388.949901      0.000000      0.000000   \n",
       "25%        0.000000   -2747.423625     33.000000      1.000000   \n",
       "50%        0.000000   -1203.369529     42.000000      1.000000   \n",
       "75%        1.000000    -291.095954     53.000000      1.000000   \n",
       "max       20.000000  401755.400475     75.000000      4.000000   \n",
       "\n",
       "       family_status_id          debt   total_income  \n",
       "count      21525.000000  21525.000000   19351.000000  \n",
       "mean           0.972544      0.080883   26787.568355  \n",
       "std            1.420324      0.272661   16475.450632  \n",
       "min            0.000000      0.000000    3306.762000  \n",
       "25%            0.000000      0.000000   16488.504500  \n",
       "50%            0.000000      0.000000   23202.870000  \n",
       "75%            1.000000      0.000000   32549.611000  \n",
       "max            4.000000      1.000000  362496.645000  "
      ]
     },
     "execution_count": 4,
     "metadata": {},
     "output_type": "execute_result"
    }
   ],
   "source": [
    "credit_score.describe()"
   ]
  },
  {
   "cell_type": "markdown",
   "metadata": {},
   "source": [
    "### Conclusion"
   ]
  },
  {
   "cell_type": "markdown",
   "metadata": {},
   "source": []
  },
  {
   "cell_type": "markdown",
   "metadata": {},
   "source": [
    "<div class=\"alert alert-block alert-warning\">\n",
    "    Here you can use <b>value_counts()</b>, <b>head()</b> as well as <b>describe()</b> to have a better understanding of the data. I'd like to suggest you to create 3 cells for each function and try them out on your dataset\n",
    "</div>"
   ]
  },
  {
   "cell_type": "markdown",
   "metadata": {},
   "source": [
    "### Step 2. Data preprocessing"
   ]
  },
  {
   "cell_type": "markdown",
   "metadata": {},
   "source": [
    "### Processing missing values"
   ]
  },
  {
   "cell_type": "code",
   "execution_count": 5,
   "metadata": {
    "scrolled": true
   },
   "outputs": [
    {
     "name": "stdout",
     "output_type": "stream",
     "text": [
      "children            0\n",
      "days_employed       0\n",
      "dob_years           0\n",
      "education           0\n",
      "education_id        0\n",
      "family_status       0\n",
      "family_status_id    0\n",
      "gender              0\n",
      "income_type         0\n",
      "debt                0\n",
      "total_income        0\n",
      "purpose             0\n",
      "dtype: int64\n"
     ]
    }
   ],
   "source": [
    "import pandas as pd\n",
    "credit_score = pd.read_csv('/datasets/credit_scoring_eng.csv')\n",
    "\n",
    "\n",
    "\n",
    "credit_score['days_employed'] = credit_score['days_employed'].fillna(value='0')\n",
    "credit_score['total_income'] = credit_score['total_income'].fillna(value='0')\n",
    "\n",
    "\n",
    "\n",
    "\n",
    "\n",
    "print(credit_score.isna().sum())\n",
    "\n",
    "\n"
   ]
  },
  {
   "cell_type": "markdown",
   "metadata": {},
   "source": [
    "Missing values found: There were blank slots found under the columns, days_employed and total_income\n",
    "I opted to use fillna() to fill the slots with 0.\n",
    "At first, I thought that the slots had been left blank because the individuals were retirees or private business owners and as such they wouldn't have the standard days_employed or total_income.  That, however, proved not to be true across the board and \n",
    "thus I think they were left out simply due to human error.  "
   ]
  },
  {
   "cell_type": "code",
   "execution_count": 6,
   "metadata": {},
   "outputs": [
    {
     "data": {
      "text/html": [
       "<div>\n",
       "<style scoped>\n",
       "    .dataframe tbody tr th:only-of-type {\n",
       "        vertical-align: middle;\n",
       "    }\n",
       "\n",
       "    .dataframe tbody tr th {\n",
       "        vertical-align: top;\n",
       "    }\n",
       "\n",
       "    .dataframe thead th {\n",
       "        text-align: right;\n",
       "    }\n",
       "</style>\n",
       "<table border=\"1\" class=\"dataframe\">\n",
       "  <thead>\n",
       "    <tr style=\"text-align: right;\">\n",
       "      <th></th>\n",
       "      <th>children</th>\n",
       "      <th>days_employed</th>\n",
       "      <th>dob_years</th>\n",
       "      <th>education</th>\n",
       "      <th>education_id</th>\n",
       "      <th>family_status</th>\n",
       "      <th>family_status_id</th>\n",
       "      <th>gender</th>\n",
       "      <th>income_type</th>\n",
       "      <th>debt</th>\n",
       "      <th>total_income</th>\n",
       "      <th>purpose</th>\n",
       "    </tr>\n",
       "  </thead>\n",
       "  <tbody>\n",
       "    <tr>\n",
       "      <td>0</td>\n",
       "      <td>1</td>\n",
       "      <td>-8437.67</td>\n",
       "      <td>42</td>\n",
       "      <td>bachelor's degree</td>\n",
       "      <td>0</td>\n",
       "      <td>married</td>\n",
       "      <td>0</td>\n",
       "      <td>F</td>\n",
       "      <td>employee</td>\n",
       "      <td>0</td>\n",
       "      <td>40620.1</td>\n",
       "      <td>purchase of the house</td>\n",
       "    </tr>\n",
       "    <tr>\n",
       "      <td>1</td>\n",
       "      <td>1</td>\n",
       "      <td>-4024.8</td>\n",
       "      <td>36</td>\n",
       "      <td>secondary education</td>\n",
       "      <td>1</td>\n",
       "      <td>married</td>\n",
       "      <td>0</td>\n",
       "      <td>F</td>\n",
       "      <td>employee</td>\n",
       "      <td>0</td>\n",
       "      <td>17932.8</td>\n",
       "      <td>car purchase</td>\n",
       "    </tr>\n",
       "    <tr>\n",
       "      <td>2</td>\n",
       "      <td>0</td>\n",
       "      <td>-5623.42</td>\n",
       "      <td>33</td>\n",
       "      <td>Secondary Education</td>\n",
       "      <td>1</td>\n",
       "      <td>married</td>\n",
       "      <td>0</td>\n",
       "      <td>M</td>\n",
       "      <td>employee</td>\n",
       "      <td>0</td>\n",
       "      <td>23341.8</td>\n",
       "      <td>purchase of the house</td>\n",
       "    </tr>\n",
       "    <tr>\n",
       "      <td>3</td>\n",
       "      <td>3</td>\n",
       "      <td>-4124.75</td>\n",
       "      <td>32</td>\n",
       "      <td>secondary education</td>\n",
       "      <td>1</td>\n",
       "      <td>married</td>\n",
       "      <td>0</td>\n",
       "      <td>M</td>\n",
       "      <td>employee</td>\n",
       "      <td>0</td>\n",
       "      <td>42820.6</td>\n",
       "      <td>supplementary education</td>\n",
       "    </tr>\n",
       "    <tr>\n",
       "      <td>4</td>\n",
       "      <td>0</td>\n",
       "      <td>340266</td>\n",
       "      <td>53</td>\n",
       "      <td>secondary education</td>\n",
       "      <td>1</td>\n",
       "      <td>civil partnership</td>\n",
       "      <td>1</td>\n",
       "      <td>F</td>\n",
       "      <td>retiree</td>\n",
       "      <td>0</td>\n",
       "      <td>25378.6</td>\n",
       "      <td>to have a wedding</td>\n",
       "    </tr>\n",
       "    <tr>\n",
       "      <td>5</td>\n",
       "      <td>0</td>\n",
       "      <td>-926.186</td>\n",
       "      <td>27</td>\n",
       "      <td>bachelor's degree</td>\n",
       "      <td>0</td>\n",
       "      <td>civil partnership</td>\n",
       "      <td>1</td>\n",
       "      <td>M</td>\n",
       "      <td>business</td>\n",
       "      <td>0</td>\n",
       "      <td>40922.2</td>\n",
       "      <td>purchase of the house</td>\n",
       "    </tr>\n",
       "    <tr>\n",
       "      <td>6</td>\n",
       "      <td>0</td>\n",
       "      <td>-2879.2</td>\n",
       "      <td>43</td>\n",
       "      <td>bachelor's degree</td>\n",
       "      <td>0</td>\n",
       "      <td>married</td>\n",
       "      <td>0</td>\n",
       "      <td>F</td>\n",
       "      <td>business</td>\n",
       "      <td>0</td>\n",
       "      <td>38484.2</td>\n",
       "      <td>housing transactions</td>\n",
       "    </tr>\n",
       "    <tr>\n",
       "      <td>7</td>\n",
       "      <td>0</td>\n",
       "      <td>-152.78</td>\n",
       "      <td>50</td>\n",
       "      <td>SECONDARY EDUCATION</td>\n",
       "      <td>1</td>\n",
       "      <td>married</td>\n",
       "      <td>0</td>\n",
       "      <td>M</td>\n",
       "      <td>employee</td>\n",
       "      <td>0</td>\n",
       "      <td>21731.8</td>\n",
       "      <td>education</td>\n",
       "    </tr>\n",
       "    <tr>\n",
       "      <td>8</td>\n",
       "      <td>2</td>\n",
       "      <td>-6929.87</td>\n",
       "      <td>35</td>\n",
       "      <td>BACHELOR'S DEGREE</td>\n",
       "      <td>0</td>\n",
       "      <td>civil partnership</td>\n",
       "      <td>1</td>\n",
       "      <td>F</td>\n",
       "      <td>employee</td>\n",
       "      <td>0</td>\n",
       "      <td>15337.1</td>\n",
       "      <td>having a wedding</td>\n",
       "    </tr>\n",
       "    <tr>\n",
       "      <td>9</td>\n",
       "      <td>0</td>\n",
       "      <td>-2188.76</td>\n",
       "      <td>41</td>\n",
       "      <td>secondary education</td>\n",
       "      <td>1</td>\n",
       "      <td>married</td>\n",
       "      <td>0</td>\n",
       "      <td>M</td>\n",
       "      <td>employee</td>\n",
       "      <td>0</td>\n",
       "      <td>23108.2</td>\n",
       "      <td>purchase of the house for my family</td>\n",
       "    </tr>\n",
       "    <tr>\n",
       "      <td>10</td>\n",
       "      <td>2</td>\n",
       "      <td>-4171.48</td>\n",
       "      <td>36</td>\n",
       "      <td>bachelor's degree</td>\n",
       "      <td>0</td>\n",
       "      <td>married</td>\n",
       "      <td>0</td>\n",
       "      <td>M</td>\n",
       "      <td>business</td>\n",
       "      <td>0</td>\n",
       "      <td>18231</td>\n",
       "      <td>buy real estate</td>\n",
       "    </tr>\n",
       "    <tr>\n",
       "      <td>11</td>\n",
       "      <td>0</td>\n",
       "      <td>-792.702</td>\n",
       "      <td>40</td>\n",
       "      <td>secondary education</td>\n",
       "      <td>1</td>\n",
       "      <td>married</td>\n",
       "      <td>0</td>\n",
       "      <td>F</td>\n",
       "      <td>employee</td>\n",
       "      <td>0</td>\n",
       "      <td>12331.1</td>\n",
       "      <td>buy commercial real estate</td>\n",
       "    </tr>\n",
       "    <tr>\n",
       "      <td>12</td>\n",
       "      <td>0</td>\n",
       "      <td>0</td>\n",
       "      <td>65</td>\n",
       "      <td>secondary education</td>\n",
       "      <td>1</td>\n",
       "      <td>civil partnership</td>\n",
       "      <td>1</td>\n",
       "      <td>M</td>\n",
       "      <td>retiree</td>\n",
       "      <td>0</td>\n",
       "      <td>0</td>\n",
       "      <td>to have a wedding</td>\n",
       "    </tr>\n",
       "    <tr>\n",
       "      <td>13</td>\n",
       "      <td>0</td>\n",
       "      <td>-1846.64</td>\n",
       "      <td>54</td>\n",
       "      <td>some college</td>\n",
       "      <td>2</td>\n",
       "      <td>married</td>\n",
       "      <td>0</td>\n",
       "      <td>F</td>\n",
       "      <td>employee</td>\n",
       "      <td>0</td>\n",
       "      <td>20873.3</td>\n",
       "      <td>car purchase</td>\n",
       "    </tr>\n",
       "    <tr>\n",
       "      <td>14</td>\n",
       "      <td>0</td>\n",
       "      <td>-1844.96</td>\n",
       "      <td>56</td>\n",
       "      <td>bachelor's degree</td>\n",
       "      <td>0</td>\n",
       "      <td>civil partnership</td>\n",
       "      <td>1</td>\n",
       "      <td>F</td>\n",
       "      <td>business</td>\n",
       "      <td>1</td>\n",
       "      <td>26420.5</td>\n",
       "      <td>buy residential real estate</td>\n",
       "    </tr>\n",
       "  </tbody>\n",
       "</table>\n",
       "</div>"
      ],
      "text/plain": [
       "    children days_employed  dob_years            education  education_id  \\\n",
       "0          1      -8437.67         42    bachelor's degree             0   \n",
       "1          1       -4024.8         36  secondary education             1   \n",
       "2          0      -5623.42         33  Secondary Education             1   \n",
       "3          3      -4124.75         32  secondary education             1   \n",
       "4          0        340266         53  secondary education             1   \n",
       "5          0      -926.186         27    bachelor's degree             0   \n",
       "6          0       -2879.2         43    bachelor's degree             0   \n",
       "7          0       -152.78         50  SECONDARY EDUCATION             1   \n",
       "8          2      -6929.87         35    BACHELOR'S DEGREE             0   \n",
       "9          0      -2188.76         41  secondary education             1   \n",
       "10         2      -4171.48         36    bachelor's degree             0   \n",
       "11         0      -792.702         40  secondary education             1   \n",
       "12         0             0         65  secondary education             1   \n",
       "13         0      -1846.64         54         some college             2   \n",
       "14         0      -1844.96         56    bachelor's degree             0   \n",
       "\n",
       "        family_status  family_status_id gender income_type  debt total_income  \\\n",
       "0             married                 0      F    employee     0      40620.1   \n",
       "1             married                 0      F    employee     0      17932.8   \n",
       "2             married                 0      M    employee     0      23341.8   \n",
       "3             married                 0      M    employee     0      42820.6   \n",
       "4   civil partnership                 1      F     retiree     0      25378.6   \n",
       "5   civil partnership                 1      M    business     0      40922.2   \n",
       "6             married                 0      F    business     0      38484.2   \n",
       "7             married                 0      M    employee     0      21731.8   \n",
       "8   civil partnership                 1      F    employee     0      15337.1   \n",
       "9             married                 0      M    employee     0      23108.2   \n",
       "10            married                 0      M    business     0        18231   \n",
       "11            married                 0      F    employee     0      12331.1   \n",
       "12  civil partnership                 1      M     retiree     0            0   \n",
       "13            married                 0      F    employee     0      20873.3   \n",
       "14  civil partnership                 1      F    business     1      26420.5   \n",
       "\n",
       "                                purpose  \n",
       "0                 purchase of the house  \n",
       "1                          car purchase  \n",
       "2                 purchase of the house  \n",
       "3               supplementary education  \n",
       "4                     to have a wedding  \n",
       "5                 purchase of the house  \n",
       "6                  housing transactions  \n",
       "7                             education  \n",
       "8                      having a wedding  \n",
       "9   purchase of the house for my family  \n",
       "10                      buy real estate  \n",
       "11           buy commercial real estate  \n",
       "12                    to have a wedding  \n",
       "13                         car purchase  \n",
       "14          buy residential real estate  "
      ]
     },
     "execution_count": 6,
     "metadata": {},
     "output_type": "execute_result"
    }
   ],
   "source": [
    "credit_score.head(15)"
   ]
  },
  {
   "cell_type": "markdown",
   "metadata": {},
   "source": [
    "### Conclusion"
   ]
  },
  {
   "cell_type": "markdown",
   "metadata": {},
   "source": []
  },
  {
   "cell_type": "markdown",
   "metadata": {},
   "source": [
    "<div class=\"alert alert-block alert-warning\">\n",
    "    You don't actually need to \"print(credit_score.head(15))\", the better solution would be to create a new cell and just do credit_score.head(15):\n",
    "</div>"
   ]
  },
  {
   "cell_type": "code",
   "execution_count": 7,
   "metadata": {},
   "outputs": [],
   "source": [
    "#credit_score.head(5)"
   ]
  },
  {
   "cell_type": "markdown",
   "metadata": {},
   "source": [
    "<div class=\"alert alert-block alert-warning\">\n",
    "Additionally, you have imported pandas and assigned credit_score twice, you don't really need to duplicate this part any more.\n",
    "</div>"
   ]
  },
  {
   "cell_type": "markdown",
   "metadata": {},
   "source": [
    "### Data type replacement"
   ]
  },
  {
   "cell_type": "code",
   "execution_count": 9,
   "metadata": {},
   "outputs": [
    {
     "name": "stdout",
     "output_type": "stream",
     "text": [
      "0          8437\n",
      "1          4024\n",
      "2          5623\n",
      "3          4124\n",
      "4        340266\n",
      "          ...  \n",
      "21520      4529\n",
      "21521    343937\n",
      "21522      2113\n",
      "21523      3112\n",
      "21524      1984\n",
      "Name: days_employed, Length: 21525, dtype: int64\n",
      "0        40620\n",
      "1        17932\n",
      "2        23341\n",
      "3        42820\n",
      "4        25378\n",
      "         ...  \n",
      "21520    35966\n",
      "21521    24959\n",
      "21522    14347\n",
      "21523    39054\n",
      "21524    13127\n",
      "Name: total_income, Length: 21525, dtype: int64\n",
      "   children  days_employed  dob_years            education  education_id  \\\n",
      "0         1           8437         42    bachelor's degree             0   \n",
      "1         1           4024         36  secondary education             1   \n",
      "2         0           5623         33  Secondary Education             1   \n",
      "3         3           4124         32  secondary education             1   \n",
      "4         0         340266         53  secondary education             1   \n",
      "\n",
      "       family_status  family_status_id gender income_type  debt  total_income  \\\n",
      "0            married                 0      F    employee     0         40620   \n",
      "1            married                 0      F    employee     0         17932   \n",
      "2            married                 0      M    employee     0         23341   \n",
      "3            married                 0      M    employee     0         42820   \n",
      "4  civil partnership                 1      F     retiree     0         25378   \n",
      "\n",
      "                   purpose  \n",
      "0    purchase of the house  \n",
      "1             car purchase  \n",
      "2    purchase of the house  \n",
      "3  supplementary education  \n",
      "4        to have a wedding  \n"
     ]
    }
   ],
   "source": [
    "credit_score['days_employed'] = pd.to_numeric(credit_score['days_employed'], errors='coerce')\n",
    "credit_score['total_income'] = pd.to_numeric(credit_score['total_income'], errors='coerce')\n",
    "\n",
    "credit_score['days_employed'] = credit_score['days_employed'].astype('int')\n",
    "credit_score['total_income'] = credit_score['total_income'].astype('int')\n",
    "\n",
    "\n",
    "credit_score[credit_score['children'] < 0]\n",
    "credit_score.loc[credit_score['children']<0,'children']=0\n",
    "\n",
    "credit_score['days_employed'] = credit_score['days_employed'].abs()\n",
    "\n",
    "\n",
    "print(credit_score['days_employed'])\n",
    "print(credit_score['total_income'])\n",
    "\n",
    "#print(credit_score.head())\n",
    "\n",
    "\n",
    "\n",
    "\n"
   ]
  },
  {
   "cell_type": "markdown",
   "metadata": {},
   "source": [
    "Here I changed days_employed and total_income to int64.  \n",
    "I also changed the negatives found in days_employed to positives.  \n",
    "I wasn't sure that this was the proper thing to do.  At first, I thought that it might indicate days unemployed\n",
    "#but the retirees has positives days_employed.  \n",
    "\n",
    "The actual numbers listed as 'days' for retirees was much too high for it to be actual days.  For example, 400,000 days is over \n",
    "1,000 years.  However, if you convert the time into hours per year, it would give you 45 years and that would make more sense\n",
    "for the span of a retirees work 'days.'\n",
    "\n",
    "If I follow the logic of hours in a year, then the negative numbers, such as 131 (#2694) wouldn't make sense as unemployed days\n",
    "because that would mean the person had lost their job five days before coming in for a loan for a wedding.  So, I decided to \n",
    "make these numbers positive assuming the negatives h70+ad been a human error too.\n",
    "\n",
    "I also changed the number of negative children (-1) to positive (1).  At first, I thought that maybe the negative number \n",
    "indicated individuals who had children but weren't dependent financially on their parents (i.e., adults, etc).  Some of the \n",
    "applicants, however, were in thier mid 20s (14359).  I suppose technically they could not have custody or any financial \n",
    "responsibility for their children but I didn't think that made sense so I assumed, yet again, the negative was a mistake.  \n",
    "Also, I found over 70 cases of individuals with 20 children.  I thought about changing the 20s to 2s but since it's \n",
    "possible for people to have that many kids and it didn't have an impact on my analysis, I left them as 20.  \n",
    "\n",
    "\n"
   ]
  },
  {
   "cell_type": "markdown",
   "metadata": {},
   "source": [
    "### Conclusion"
   ]
  },
  {
   "cell_type": "markdown",
   "metadata": {},
   "source": []
  },
  {
   "cell_type": "markdown",
   "metadata": {},
   "source": [
    "<div class=\"alert alert-block alert-success\">\n",
    "This is a very in-depth analysis, I like it, good job! You actually even did an extra mile here, adding the examples to your conclusions - this is very good.\n",
    "</div>"
   ]
  },
  {
   "cell_type": "markdown",
   "metadata": {},
   "source": [
    "<div class=\"alert alert-block alert-warning\">\n",
    "Just to consider - you have changed all the children that were negative to '1', maybe it would be better either to ave them at '0' if this is indeed some type of the error, or take the absolute value (there is <b>.abs()</b> function for this). Additionally, I'd like to suggest you to change the data types of some of the colums (like days_employed, total_income - you can take int values of them to ease life a bit in future)\n",
    "</div>"
   ]
  },
  {
   "cell_type": "markdown",
   "metadata": {},
   "source": [
    "Hi.  I thought I did change days_employed and total_income to int64.  Did I do it incorrectly above?  \n",
    "\n",
    "Also, how do I know whether it's better to set the number of children listed ast -1 to abs() or 0 since that type of change\n",
    "would impact the outcome of the stats?  In this case, I went ahead and changed it to 0 as you suggested and will see below how it changes the stats.  "
   ]
  },
  {
   "cell_type": "markdown",
   "metadata": {},
   "source": [
    "### Processing duplicates"
   ]
  },
  {
   "cell_type": "code",
   "execution_count": 9,
   "metadata": {},
   "outputs": [
    {
     "name": "stdout",
     "output_type": "stream",
     "text": [
      "Duplicate entries in the table: 54\n"
     ]
    }
   ],
   "source": [
    "print('Duplicate entries in the table:', credit_score.duplicated().sum()) \n",
    "credit_score = credit_score.drop_duplicates()\n",
    "\n"
   ]
  },
  {
   "cell_type": "markdown",
   "metadata": {},
   "source": [
    "I used duplicated() to find the duplicates (54) and drop_duplicates() to remove them.\n",
    "Possible reasons for duplicates:  Maybe the individual had applied before for other reasons.  Maybe it was a human error.  \n",
    "\n"
   ]
  },
  {
   "cell_type": "code",
   "execution_count": 10,
   "metadata": {},
   "outputs": [
    {
     "data": {
      "text/plain": [
       "array([\"bachelor's degree\", 'secondary education', 'Secondary Education',\n",
       "       'SECONDARY EDUCATION', \"BACHELOR'S DEGREE\", 'some college',\n",
       "       'primary education', \"Bachelor's Degree\", 'SOME COLLEGE',\n",
       "       'Some College', 'PRIMARY EDUCATION', 'Primary Education',\n",
       "       'Graduate Degree', 'GRADUATE DEGREE', 'graduate degree'],\n",
       "      dtype=object)"
      ]
     },
     "execution_count": 10,
     "metadata": {},
     "output_type": "execute_result"
    }
   ],
   "source": [
    "credit_score['education'].unique()\n",
    "\n"
   ]
  },
  {
   "cell_type": "code",
   "execution_count": 11,
   "metadata": {},
   "outputs": [
    {
     "name": "stdout",
     "output_type": "stream",
     "text": [
      "Duplicate entries in the table: 17\n",
      "\n",
      "\n",
      "[\"bachelor's degree\" 'secondary education' 'some college'\n",
      " 'primary education' 'graduate degree']\n",
      "Duplicate entries in the table: 0\n"
     ]
    }
   ],
   "source": [
    "#credit_score['education_lowercase'] = credit_score['education'].str.lower()\n",
    "#print(credit_score['education_lowercase'])\n",
    "\n",
    "credit_score['education'] = credit_score['education'].str.lower()\n",
    "print('Duplicate entries in the table:', credit_score.duplicated().sum()) \n",
    "print()\n",
    "#credit_score['education_lowercase'] = credit_score['education'].str.lower()\n",
    "#print(credit_score['education_lowercase'].value_counts())\n",
    "#print('Duplicate entries in the table:', credit_score.duplicated().sum()) \n",
    "#credit_score = credit_score.drop_duplicates()\n",
    "print()                                 \n",
    "#credit_score['education_lowercase'] = credit_score['education_lowercase'].drop_duplicates()\n",
    "credit_score =  credit_score.drop_duplicates()\n",
    "#print(credit_score)\n",
    "print(credit_score['education'].unique())\n",
    "print('Duplicate entries in the table:', credit_score.duplicated().sum()) \n",
    "\n"
   ]
  },
  {
   "cell_type": "markdown",
   "metadata": {},
   "source": [
    "### Conclusion"
   ]
  },
  {
   "cell_type": "markdown",
   "metadata": {},
   "source": []
  },
  {
   "cell_type": "markdown",
   "metadata": {},
   "source": [
    "<div class=\"alert alert-block alert-danger\">\n",
    "Please look into education column (tip: use unique()). It will create duplicates for you that you did not filter.\n",
    "</div>"
   ]
  },
  {
   "cell_type": "markdown",
   "metadata": {},
   "source": [
    "<div class=\"alert alert-block alert-danger\">\n",
    "Please check the code after this block: you use <b>credit_score_</b> to delete duplicates, but use <b>credit_score</b> after that. Is that right?\n",
    "</div>"
   ]
  },
  {
   "cell_type": "code",
   "execution_count": 12,
   "metadata": {},
   "outputs": [],
   "source": [
    "#credit_score_ was a mistake on my part "
   ]
  },
  {
   "cell_type": "markdown",
   "metadata": {},
   "source": [
    "### Categorizing Data"
   ]
  },
  {
   "cell_type": "code",
   "execution_count": 13,
   "metadata": {},
   "outputs": [
    {
     "name": "stdout",
     "output_type": "stream",
     "text": [
      "Total number of people without children: 14138\n",
      "Total number of people without children that defaulted: 1064\n",
      "\n",
      "Total number of people with children: 7316\n",
      "Total number of people with children that defaulted: 677\n",
      "\n",
      "Percentage of people without children that defaulted: 7.53\n",
      "Percentage of people with children that defaulted: 9.25\n"
     ]
    }
   ],
   "source": [
    " #With and without children\n",
    "\n",
    "#total_default = credit_score[credit_score['debt'] == 1].count()\n",
    "\n",
    "\n",
    "without_children = credit_score[credit_score['children'] == 0]\n",
    "with_children = credit_score[credit_score['children'] > 0]\n",
    "#gives a full list of information about individuals with and without children\n",
    "\n",
    "default_without_children = without_children[without_children['debt'] == 1].count()['children']\n",
    "default_with_children = with_children[with_children['debt'] == 1].count()['children']\n",
    "#gives single number of people with and without children\n",
    "\n",
    "total_without_children = without_children.count()['children']\n",
    "total_with_children = with_children.count()['children']\n",
    "#gives total number of applicants with or without children regardless of default status \n",
    "\n",
    "precent_without_children_default = (default_without_children/total_without_children) * 100.0\n",
    "precent_with_children_default = (default_with_children/total_with_children) * 100.0\n",
    "#gives the percentage of people with and without children that defaulted based on total applicants for each group \n",
    "\n",
    "print('Total number of people without children: {}'.format(total_without_children))\n",
    "print('Total number of people without children that defaulted: {}'.format(default_without_children))\n",
    "print()\n",
    "print('Total number of people with children: {}'.format(total_with_children))\n",
    "print('Total number of people with children that defaulted: {}'.format(default_with_children))\n",
    "print()\n",
    "print('Percentage of people without children that defaulted: {:.2f}'.format(precent_without_children_default))\n",
    "print('Percentage of people with children that defaulted: {:.2f}'.format(precent_with_children_default))\n",
    "    \n"
   ]
  },
  {
   "cell_type": "code",
   "execution_count": 14,
   "metadata": {},
   "outputs": [
    {
     "name": "stdout",
     "output_type": "stream",
     "text": [
      "Total number of people married: 12339\n",
      "Total number of married people that defaulted: 931\n",
      "\n",
      "Total number of people not married: 9115\n",
      "Total number of not married people that defaulted: 810\n",
      "\n",
      "Percentage of married people that defaulted: 7.55\n",
      "Percentage of not married people that defaulted: 8.89\n"
     ]
    }
   ],
   "source": [
    "#marital status \n",
    "\n",
    "\n",
    "\n",
    "\n",
    "married = credit_score[credit_score['family_status_id'] == 0]\n",
    "civil_partnership = credit_score[credit_score['family_status_id'] == 1]\n",
    "widow_widower = credit_score[credit_score['family_status_id'] == 2]\n",
    "divorced = credit_score[credit_score['family_status_id'] == 3]\n",
    "unmarried = credit_score[credit_score['family_status_id'] == 4]\n",
    "#gives a full list of information about individuals and their relationship status\n",
    "\n",
    "not_married = credit_score[credit_score['family_status_id'] != 0]\n",
    "#combination of all unmarried groups  \n",
    "\n",
    "\n",
    "default_married = married[married['debt'] == 1].count()['family_status_id']\n",
    "default_not_married = not_married[not_married['debt'] == 1].count()['family_status_id']\n",
    "#number of married and unmarried individuals that defaulted \n",
    "\n",
    "total_married = married.count()['family_status_id']\n",
    "total_not_married = not_married.count()['family_status_id']\n",
    "#total married and not married individuals \n",
    "\n",
    "precent_married_default = (default_married/total_married) * 100.0\n",
    "precent_not_married_default = (default_not_married/total_not_married) * 100.0\n",
    "#gives the percentage of married and unmarried people that defaulted \n",
    "\n",
    "print('Total number of people married: {}'.format(total_married))\n",
    "print('Total number of married people that defaulted: {}'.format(default_married))\n",
    "print()\n",
    "print('Total number of people not married: {}'.format(total_not_married))\n",
    "print('Total number of not married people that defaulted: {}'.format(default_not_married))\n",
    "print()\n",
    "print('Percentage of married people that defaulted: {:.2f}'.format(precent_married_default))\n",
    "print('Percentage of not married people that defaulted: {:.2f}'.format(precent_not_married_default))"
   ]
  },
  {
   "cell_type": "code",
   "execution_count": 15,
   "metadata": {},
   "outputs": [
    {
     "name": "stdout",
     "output_type": "stream",
     "text": [
      "Total number of people in the lower class income bracket: 17388\n",
      "Total number of people in the lower class income bracket that defaulted: 1451\n",
      "\n",
      "Total number of people in the middle class income bracket: 3967\n",
      "Total number of people in the middle class income bracket that defaulted: 284\n",
      "\n",
      "Total number of people in the upper class income bracket: 99\n",
      "Total number of people in the upper class income bracket that defaulted: 6\n",
      "\n",
      "Percentage of people from the lower class income bracket that defaulted: 8.34\n",
      "Percentage of people from the middle class income bracket that defaulted: 7.16\n",
      "Percentage of people from the upper class income bracket that defaulted: 0.06\n"
     ]
    }
   ],
   "source": [
    "#income level \n",
    "\n",
    "low_income = 35000\n",
    "upper_income = 100000\n",
    "\n",
    "\n",
    "lower_class_income = credit_score[credit_score['total_income'] <= low_income]\n",
    "middle_class_income = credit_score[(credit_score['total_income'] > low_income) & (credit_score['total_income'] < upper_income)]\n",
    "upper_class_income = credit_score[(credit_score['total_income'] >= upper_income)]                                   \n",
    "#divides american income classes into groups\n",
    "\n",
    "default_lower_class_income = lower_class_income[lower_class_income['debt'] == 1].count()['total_income']\n",
    "default_middle_class_income = middle_class_income[middle_class_income['debt'] == 1].count()['total_income']\n",
    "default_upper_class_income = upper_class_income[upper_class_income['debt'] == 1].count()['total_income']                                \n",
    "#number of people from each group that defaulted\n",
    "\n",
    "total_lower_class_income = lower_class_income.count()['total_income']\n",
    "total_middle_class_income = middle_class_income.count()['total_income']\n",
    "total_upper_class_income = upper_class_income.count()['total_income']                                   \n",
    "#total number of individuals from each group\n",
    "\n",
    "precent_lower_class_income_default = (default_lower_class_income/total_lower_class_income) * 100.0\n",
    "precent_middle_class_income_default = (default_middle_class_income/total_middle_class_income) * 100.0\n",
    "percent_upper_class_income_default = (default_upper_class_income/total_upper_class_income)                                  \n",
    "#gives the percentage of individuals from each group that defaulted\n",
    "\n",
    "\n",
    "\n",
    "print('Total number of people in the lower class income bracket: {}'.format(total_lower_class_income))\n",
    "print('Total number of people in the lower class income bracket that defaulted: {}'.format(default_lower_class_income))\n",
    "print()\n",
    "print('Total number of people in the middle class income bracket: {}'.format(total_middle_class_income))\n",
    "print('Total number of people in the middle class income bracket that defaulted: {}'.format(default_middle_class_income))\n",
    "print()\n",
    "print('Total number of people in the upper class income bracket: {}'.format(total_upper_class_income))\n",
    "print('Total number of people in the upper class income bracket that defaulted: {}'.format(default_upper_class_income))\n",
    "print()                              \n",
    "print('Percentage of people from the lower class income bracket that defaulted: {:.2f}'.format(precent_lower_class_income_default))\n",
    "print('Percentage of people from the middle class income bracket that defaulted: {:.2f}'.format(precent_middle_class_income_default))\n",
    "print('Percentage of people from the upper class income bracket that defaulted: {:.2f}'.format(percent_upper_class_income_default))\n",
    "                                 "
   ]
  },
  {
   "cell_type": "code",
   "execution_count": 16,
   "metadata": {},
   "outputs": [
    {
     "name": "stdout",
     "output_type": "stream",
     "text": [
      "\n",
      "\n",
      "Mean Income: 24161.3\n",
      "Median Income: 21724.5\n",
      "\n",
      "Total number of people above the mean: 9098\n",
      "Total number of people below the mean: 12356\n",
      "\n",
      "Total number of people above median: 10727\n",
      "Total number of people below the median: 10727\n",
      "\n",
      "Total number of people above the mean: 9098\n",
      "Total number of people below the mean: 12356\n",
      "\n",
      "Total number of people above median: 10727\n",
      "Total number of people below the median: 10727\n",
      "\n",
      "Total number of people above the mean that defaulted: 713 which is 7.84 %\n",
      "Total number of people below the mean that defaulted: 1028 which is 8.32 %\n",
      "\n",
      "Total number of people above the median that defaulted: 864 which is 8.05 %\n",
      "Total number of people below the median that defaulted: 877 which is 8.18 %\n",
      "\n"
     ]
    }
   ],
   "source": [
    "#Income level 2: mean/median \n",
    "\n",
    "mean_income = credit_score['total_income'].mean()\n",
    "median_income = credit_score['total_income'].median()\n",
    "print()\n",
    "\n",
    "total_people_above_mean = credit_score[(credit_score['total_income'] > mean_income)]['total_income'].count()\n",
    "total_people_below_mean = credit_score[(credit_score['total_income'] < mean_income)]['total_income'].count()\n",
    "\n",
    "total_people_above_median = credit_score[(credit_score['total_income'] > median_income)]['total_income'].count()\n",
    "total_people_below_median = credit_score[(credit_score['total_income'] < median_income)]['total_income'].count()\n",
    "\n",
    "\n",
    "\n",
    "above_mean_default = credit_score[(credit_score['total_income'] > mean_income) & (credit_score['debt'] == 1)]['total_income'].count()\n",
    "below_mean_default = credit_score[(credit_score['total_income'] < mean_income) & (credit_score['debt'] == 1)]['total_income'].count()\n",
    "print()\n",
    "above_median_default = credit_score[(credit_score['total_income'] > median_income) & (credit_score['debt'] == 1)]['total_income'].count()\n",
    "below_median_default = credit_score[(credit_score['total_income'] < median_income) & (credit_score['debt'] == 1)]['total_income'].count()\n",
    "\n",
    "\n",
    "percent_above_mean_default = (above_mean_default/total_people_above_mean) * 100\n",
    "percent_below_mean_default = (below_mean_default/total_people_below_mean) * 100\n",
    "percent_above_median_default = (above_median_default/total_people_above_median) * 100\n",
    "percent_below_median_default = (below_median_default/total_people_below_median) * 100\n",
    "\n",
    "print('Mean Income: {:.1f}'.format(mean_income))\n",
    "print('Median Income: {:.1f}'.format(median_income))\n",
    "print()\n",
    "print('Total number of people above the mean: {}'.format(total_people_above_mean))\n",
    "print('Total number of people below the mean: {}'.format(total_people_below_mean))\n",
    "print()\n",
    "print('Total number of people above median: {}'.format(total_people_above_median))\n",
    "print('Total number of people below the median: {}'.format(total_people_below_median))\n",
    "print()\n",
    "print('Total number of people above the mean: {}'.format(total_people_above_mean))\n",
    "print('Total number of people below the mean: {}'.format(total_people_below_mean))\n",
    "print()\n",
    "print('Total number of people above median: {}'.format(total_people_above_median))\n",
    "print('Total number of people below the median: {}'.format(total_people_below_median))\n",
    "print()\n",
    "print('Total number of people above the mean that defaulted: {} which is {:.2f} %'.format(above_mean_default, percent_above_mean_default))\n",
    "print('Total number of people below the mean that defaulted: {} which is {:.2f} %'.format(below_mean_default, percent_below_mean_default))\n",
    "print()\n",
    "print('Total number of people above the median that defaulted: {} which is {:.2f} %'.format(above_median_default, percent_above_median_default))\n",
    "print('Total number of people below the median that defaulted: {} which is {:.2f} %'.format(below_median_default, percent_below_median_default))\n",
    "print()\n",
    "#print('Total percentage of people above the mean that defaulted: {:.2f}'.format(percent_above_mean_default))\n",
    "#rint('Total number of people below the mean that defaulted: {:.2f}'.format(percent_below_mean_default))\n",
    "#print()\n",
    "#print('Total number of people above the median that defaulted: {:.2f}'.format(percent_above_median_default))\n",
    "#print('Total number of people below the median that defaulted: {:.2f}'.format(percent_below_median_default))"
   ]
  },
  {
   "cell_type": "code",
   "execution_count": 17,
   "metadata": {},
   "outputs": [
    {
     "name": "stdout",
     "output_type": "stream",
     "text": [
      "================\n",
      "real estate    10811\n",
      "car             4306\n",
      "education       4013\n",
      "wedding         2324\n",
      "Name: purpose_category, dtype: int64\n"
     ]
    }
   ],
   "source": [
    "#event type \n",
    "\n",
    "#print(credit_score['purpose'].value_counts())\n",
    "\n",
    "import nltk\n",
    "from nltk.stem import WordNetLemmatizer\n",
    "wordnet_lemma = WordNetLemmatizer()\n",
    "from collections import Counter\n",
    "\n",
    "\n",
    "\n",
    "def loan_purpose_lemma(row): \n",
    "    purpose = row['purpose']\n",
    "    words = nltk.word_tokenize(purpose)\n",
    "    lemmas = [wordnet_lemma.lemmatize(w, pos = 'n') for w in words]\n",
    "   \n",
    "    #print(Counter(lemmas))\n",
    "    #return lemmas\n",
    "    #was used for debugging\n",
    "    \n",
    "\n",
    "    if ('wedding' in lemmas) or ('ceremony' in lemmas): \n",
    "        return 'wedding'\n",
    "    elif 'car' in lemmas:\n",
    "        return 'car'\n",
    "    elif ('education' in lemmas) or ('university' in lemmas) or ('supplementary' in lemmas) or ('educated' in lemmas):\n",
    "        return 'education'\n",
    "    elif ('house' in lemmas) or ('estate' in lemmas) or ('property' in lemmas) or ('housing' in lemmas)\\\n",
    "    or ('commerical' in lemmas) or ('building' in lemmas) or ('construction' in lemmas) or ('renovations' in lemmas)\\\n",
    "    or ('residential' in lemmas):\n",
    "        return 'real estate'\n",
    "    else: \n",
    "        return 'other'\n",
    "\n",
    "    \n",
    " \n",
    "\n",
    "credit_score['purpose_category'] = credit_score.apply(loan_purpose_lemma, axis=1)\n",
    "\n",
    "print(\"================\")\n",
    "print(credit_score['purpose_category'].value_counts())\n",
    "\n",
    "\n",
    "\n"
   ]
  },
  {
   "cell_type": "code",
   "execution_count": 18,
   "metadata": {},
   "outputs": [
    {
     "name": "stdout",
     "output_type": "stream",
     "text": [
      "Total number of loans for weddings: 2324\n",
      "Total number of loans for weddings that defaulted 186\n",
      "Percentage of loans for weddings that defaulted: 8.00\n"
     ]
    }
   ],
   "source": [
    "#wedding\n",
    "\n",
    "\n",
    "wedding = credit_score[credit_score['purpose_category'] == 'wedding']\n",
    "default_wedding = wedding[wedding['debt'] == 1].count()['purpose_category']\n",
    "total_wedding_loans = wedding.count()['purpose_category']\n",
    "precent_wedding_loan_default = (default_wedding/total_wedding_loans) * 100.0\n",
    "\n",
    "\n",
    "print('Total number of loans for weddings: {}'.format(total_wedding_loans))\n",
    "print('Total number of loans for weddings that defaulted {}'.format(default_wedding))\n",
    "print('Percentage of loans for weddings that defaulted: {:.2f}'.format(precent_wedding_loan_default))\n"
   ]
  },
  {
   "cell_type": "code",
   "execution_count": 19,
   "metadata": {},
   "outputs": [
    {
     "name": "stdout",
     "output_type": "stream",
     "text": [
      "Total number of loans for cars: 4306\n",
      "Total number of loans for cars that defaulted 403\n",
      "Percentage of loans for cars that defaulted: 9.36\n"
     ]
    }
   ],
   "source": [
    "#car \n",
    "\n",
    "\n",
    "car = credit_score[credit_score['purpose_category'] == 'car']\n",
    "default_car = car[car['debt'] == 1].count()['purpose_category']\n",
    "total_car_loans = car.count()['purpose_category']\n",
    "precent_car_loan_default = (default_car/total_car_loans) * 100.0\n",
    "\n",
    "\n",
    "\n",
    "print('Total number of loans for cars: {}'.format(total_car_loans))\n",
    "print('Total number of loans for cars that defaulted {}'.format(default_car))\n",
    "print('Percentage of loans for cars that defaulted: {:.2f}'.format(precent_car_loan_default))   \n"
   ]
  },
  {
   "cell_type": "code",
   "execution_count": 20,
   "metadata": {},
   "outputs": [
    {
     "name": "stdout",
     "output_type": "stream",
     "text": [
      "Total number of loans for education: 4013\n",
      "Total number of loans for education that defaulted 370\n",
      "Percentage of loans for education that defaulted: 9.22\n"
     ]
    }
   ],
   "source": [
    "#education \n",
    "\n",
    "education = credit_score[credit_score['purpose_category'] == 'education']\n",
    "default_education = education[education['debt'] == 1].count()['purpose_category']\n",
    "total_education_loans = education.count()['purpose_category']\n",
    "precent_education_loan_default = (default_education/total_education_loans) * 100.0\n",
    "\n",
    "\n",
    "print('Total number of loans for education: {}'.format(total_education_loans))\n",
    "print('Total number of loans for education that defaulted {}'.format(default_education))\n",
    "print('Percentage of loans for education that defaulted: {:.2f}'.format(precent_education_loan_default))\n"
   ]
  },
  {
   "cell_type": "code",
   "execution_count": 21,
   "metadata": {},
   "outputs": [
    {
     "name": "stdout",
     "output_type": "stream",
     "text": [
      "Total number of loans for real estate: 10811\n",
      "Total number of loans for real estate that defaulted 782\n",
      "Percentage of loans for real estate that defaulted: 7.23\n"
     ]
    }
   ],
   "source": [
    "#real estate \n",
    "\n",
    "real_estate = credit_score[credit_score['purpose_category'] == 'real estate']\n",
    "default_real_estate = real_estate[real_estate['debt'] == 1].count()['purpose_category']\n",
    "total_real_estate_loans = real_estate.count()['purpose_category']\n",
    "precent_real_estate_loan_default = (default_real_estate/total_real_estate_loans) * 100.0\n",
    "\n",
    "   \n",
    "\n",
    "print('Total number of loans for real estate: {}'.format(total_real_estate_loans))\n",
    "print('Total number of loans for real estate that defaulted {}'.format(default_real_estate))\n",
    "print('Percentage of loans for real estate that defaulted: {:.2f}'.format(precent_real_estate_loan_default))\n"
   ]
  },
  {
   "cell_type": "markdown",
   "metadata": {},
   "source": [
    "<div class=\"alert alert-block alert-warning\">\n",
    "Could you please look into lemmatization here? I think you could have missed some of the data.\n",
    "    In the tasks: <b>Data preprocessing -> Looking for duplicates -> Lemmatization </b>\n",
    "</div>"
   ]
  },
  {
   "cell_type": "markdown",
   "metadata": {},
   "source": [
    "<div class=\"alert alert-block alert-warning\">\n",
    "I'd like to ask you to split the code a bit in these cells - it is hard to get the whole idea of what you did there. I appreciate the comments in code however! :)\n",
    "</div>"
   ]
  },
  {
   "cell_type": "markdown",
   "metadata": {},
   "source": [
    "### Conclusion"
   ]
  },
  {
   "cell_type": "markdown",
   "metadata": {},
   "source": []
  },
  {
   "cell_type": "markdown",
   "metadata": {},
   "source": [
    "### Step 3. Answer these questions"
   ]
  },
  {
   "cell_type": "markdown",
   "metadata": {},
   "source": [
    "- Is there a relation between having kids and repaying a loan on time?"
   ]
  },
  {
   "cell_type": "markdown",
   "metadata": {},
   "source": [
    "Initial calculations based on -1 = 1\n",
    "\n",
    "There does seem to be a correlation between having kids and whether or not an individual pays their loans back on time.  \n",
    "Based on my calculations, individuals with kids were 1.5% more likely to default than those that didn't.  \n",
    "The reasons for this could vary.  I would need to do a more in-depth analysis to be certain.  It could simply be because having \n",
    "kids is expensive.  It could also be related to whether or nor a parent is single and raising a child on their own, \n",
    "education/salary level combined with the cost of raising a child; the number of children present in the home.  "
   ]
  },
  {
   "cell_type": "markdown",
   "metadata": {},
   "source": [
    "calculations based on -1 = 0 \n",
    "\n",
    "There is still a correlation between having kids and defaulting.  Based on the new calculations, individuals with kids are 1.7%\n",
    "more likely to default.  I'm not how sure how accurate the number is since I'm not sure whether the -1 should be a 1 or 0, but \n",
    "either way, there is a correlation between having kids and defaulting.  "
   ]
  },
  {
   "cell_type": "code",
   "execution_count": 28,
   "metadata": {
    "scrolled": true
   },
   "outputs": [
    {
     "name": "stdout",
     "output_type": "stream",
     "text": [
      "\n",
      "                  debt                  \n",
      "                   len      mean     sum\n",
      "Has Child                               \n",
      "With Child      7316.0  0.092537   677.0\n",
      "Without Child  14138.0  0.075258  1064.0\n"
     ]
    }
   ],
   "source": [
    "\n",
    "def with_child_check(row):\n",
    "    \n",
    "    if row['children'] > 0:\n",
    "        return 'With Child'\n",
    "    else:\n",
    "        return \"Without Child\"\n",
    "\n",
    "credit_score['Has Child'] = credit_score.apply(with_child_check, axis = 1)  \n",
    "############################################\n",
    "#data_pivot = credit_score.pivot_table(index=['family_status'], columns='Has Child', values=[''], aggfunc='len')\n",
    "\n",
    "\n",
    "\n",
    "#print(credit_score['Has Child'].value_counts())\n",
    "#number of people with and without children\n",
    "#print()\n",
    "#print(credit_score['debt'].value_counts())\n",
    "#number of people that defaulted or didn't \n",
    "print()\n",
    "\n",
    "data_pivot = credit_score.pivot_table(index=[ 'Has Child'], values=['debt'],\\\n",
    "                                      aggfunc={'debt':[sum,len, np.mean]} )\n",
    "\n",
    "print(data_pivot)\n"
   ]
  },
  {
   "cell_type": "markdown",
   "metadata": {},
   "source": [
    "I really struggled with the pivot tables and getting them to work. I feel like the pivot tables I've added are lacking.  \n",
    "this table basically shows the number of individuals with and without children and how many defaulted, respectively. I added the mean which basically divides the sum by len, to give a precetage comparison. \n"
   ]
  },
  {
   "cell_type": "markdown",
   "metadata": {},
   "source": [
    "<div class=\"alert alert-block alert-danger\">\n",
    "It would be great to have code here, that proves your conclusions. Maybe it is a good idea to put some of the code from the previous part there. Or better yet - to do pivot tables or plot some graphs. This would help you a lot in this task. And please add them as markdown block for a better visibility\n",
    "</div>"
   ]
  },
  {
   "cell_type": "markdown",
   "metadata": {},
   "source": [
    "<div class=\"alert alert-block alert-danger\">\n",
    "<b> Second iteration</b>\n",
    "We are almost done - you do sums and lens, wouldn't it be useful to do \"mean\" too for example?</div>"
   ]
  },
  {
   "cell_type": "markdown",
   "metadata": {},
   "source": [
    "### Conclusion"
   ]
  },
  {
   "cell_type": "markdown",
   "metadata": {},
   "source": []
  },
  {
   "cell_type": "markdown",
   "metadata": {},
   "source": [
    "- Is there a relation between marital status and repaying a loan on time?"
   ]
  },
  {
   "cell_type": "markdown",
   "metadata": {},
   "source": [
    "There also seems to be a correlation between marital status and whether or not an individual  defaults on their loan.  \n",
    "According to my calculations, people who aren't married defaulted 1.3% more often than their married counterparts did.  \n",
    "I struggled with how to analyze this data.  I considered combining married people and people in a civil partnership since both \n",
    "are generally long-term relationships.  As the question specifically stated 'married,' I opted to separte them in my analysis.  \n",
    "Possible reasons that married couples defaulted less could be attributed to their being two incomes in the home.  However, \n",
    "many of the individual applicants who were married, had very low incomes which indicated a single income household.  Possibly, \n",
    "the reason could be that married couples are more 'stable' and have much more to lose, as it were, by defaulting on a loan.  "
   ]
  },
  {
   "cell_type": "code",
   "execution_count": 29,
   "metadata": {},
   "outputs": [
    {
     "name": "stdout",
     "output_type": "stream",
     "text": [
      "                      debt                 \n",
      "                       len      mean    sum\n",
      "family_status                              \n",
      "civil partnership   4151.0  0.093471  388.0\n",
      "divorced            1195.0  0.071130   85.0\n",
      "married            12339.0  0.075452  931.0\n",
      "unmarried           2810.0  0.097509  274.0\n",
      "widow / widower      959.0  0.065693   63.0\n"
     ]
    }
   ],
   "source": [
    "data_pivot = credit_score.pivot_table(index=[ 'family_status'], values=['debt'],\\\n",
    "                                      aggfunc={'debt':[sum, len, np.mean]} )\n",
    "\n",
    "print(data_pivot)\n"
   ]
  },
  {
   "cell_type": "markdown",
   "metadata": {},
   "source": [
    "again, I struggled as I wasn't sure how to get the unmarried individuals combined into one column.  the len column shows \n",
    "the total number of individals in each column and sum shows how many defaulted respectively.  "
   ]
  },
  {
   "cell_type": "markdown",
   "metadata": {},
   "source": [
    "<div class=\"alert alert-block alert-danger\">\n",
    "Same as previous - please put the code as well as markdown block here. If you could ask me, I think having a marriage may be connected to the person being \"settled\" - i.e. not willing to do risks, or, for example leave the country without paying. I think that your idea to take only \"married\" was right\n",
    "</div>"
   ]
  },
  {
   "cell_type": "markdown",
   "metadata": {},
   "source": [
    "### Conclusion"
   ]
  },
  {
   "cell_type": "markdown",
   "metadata": {},
   "source": []
  },
  {
   "cell_type": "markdown",
   "metadata": {},
   "source": [
    "- Is there a relation between income level and repaying a loan on time?"
   ]
  },
  {
   "cell_type": "markdown",
   "metadata": {},
   "source": [
    "This was a tricky analysis to conduct as dividing people into income classes can vary somewhat depending on which source you use.\n",
    "\n",
    "I opted to go middle of the road in my breakdown.  Although, I'm not certain I agree with my own decision.  Most sources list low income as being 45,000 or less.  I opted to go with 35,000 or less, as I, personally, am from an area where the average income per individual is 15,000-19,000 per year and that is before taxes are taken out. \n",
    "\n",
    "That being said, according to my analysis, income does in fact impact whether one defaults on a loan or not.  \n",
    "Individuals from the low income bracket defaulted 1.1% more often than did individual from the middle class.  \n",
    "Morewover, individuals from the lower income bracket and middle income bracket both defaulted much more (8.25% and 7.1%) \n",
    "than individuals from the higher income bracket who defaulted 0.06% of the time.  \n",
    "\n"
   ]
  },
  {
   "cell_type": "markdown",
   "metadata": {},
   "source": [
    "based on the income level 2 analysis with mean/median, income still seems to be a factor in whether loans are defaulted on or not but less so.  Based on the median income, there was virtually no difference in default rates.  And based on the mean income, those who fell below the mean were more likely to default by 0.48%.  \n",
    "\n",
    "in the pivot chart below, 0 represents the mean and median incomes from the individuals that didn't default and 1 represents \n",
    "the mean and median incomes from the individuals that did default.  There is a difference but it's very slight.  \n",
    "\n",
    "I'm not convinced that this is givinn an accuract picture since it seems to indicate that there is virually no difference \n",
    "in default rate based on income levels.  "
   ]
  },
  {
   "cell_type": "code",
   "execution_count": 23,
   "metadata": {},
   "outputs": [
    {
     "name": "stdout",
     "output_type": "stream",
     "text": [
      "      total_income         \n",
      "              mean   median\n",
      "debt                       \n",
      "0     24215.510475  21738.0\n",
      "1     23547.534750  21694.0\n"
     ]
    }
   ],
   "source": [
    "#income level \n",
    "\n",
    "import numpy as np\n",
    "\n",
    "data_pivot = credit_score.pivot_table(index=[ 'debt'], values=['total_income'],\\\n",
    "                                      aggfunc={'total_income':[np.mean, np.median]} )\n",
    "\n",
    "print(data_pivot)"
   ]
  },
  {
   "cell_type": "markdown",
   "metadata": {},
   "source": [
    "<div class=\"alert alert-block alert-danger\">\n",
    "Same as previous - please put the code as well as markdown block here.\n",
    "</div>"
   ]
  },
  {
   "cell_type": "markdown",
   "metadata": {},
   "source": [
    "<div class=\"alert alert-block alert-danger\">\n",
    "I like your idea of checking what are the income classes in your area/other areas and what are low incomes, however, let me suggest you for this task to do it based on the data you have - you can check the mean/median income and see how many people are near the mean/median and decide based on that data.\n",
    "</div>"
   ]
  },
  {
   "cell_type": "markdown",
   "metadata": {},
   "source": [
    "### Conclusion"
   ]
  },
  {
   "cell_type": "markdown",
   "metadata": {},
   "source": []
  },
  {
   "cell_type": "markdown",
   "metadata": {},
   "source": [
    "- How do different loan purposes affect on-time repayment of the loan?"
   ]
  },
  {
   "cell_type": "markdown",
   "metadata": {},
   "source": [
    "wedding default rate: 8%\n",
    "cars: 9.36%\n",
    "education: 9.22%\n",
    "real estate: 7.23%\n",
    "(I think I wrote this before but it got deleted somehow.)\n",
    "\n",
    "There does seems to be a difference in the default rate based on loan purpose.  Loans for real estate purposes have a much lower efault rate than do the others.  This may be due to the fact that an investment in a home or business is more serious than an investment in a car or university from which one may graduate or not.  "
   ]
  },
  {
   "cell_type": "code",
   "execution_count": 30,
   "metadata": {},
   "outputs": [
    {
     "name": "stdout",
     "output_type": "stream",
     "text": [
      "                     debt                 \n",
      "                      len      mean    sum\n",
      "purpose_category                          \n",
      "car                4306.0  0.093590  403.0\n",
      "education          4013.0  0.092200  370.0\n",
      "real estate       10811.0  0.072334  782.0\n",
      "wedding            2324.0  0.080034  186.0\n",
      "\n",
      "Car loans default precent: 9.36 %\n",
      "Education loans default precent: 9.22 %\n",
      "Real estate loans default precent: 7.23 %\n",
      "Wedding loans default precent: 8.00 %\n"
     ]
    }
   ],
   "source": [
    "data_pivot = credit_score.pivot_table(index=['purpose_category'], values=['debt'],\\\n",
    "                                      aggfunc={'debt':[sum, len, np.mean]} )\n",
    "\n",
    "print(data_pivot)\n",
    "print()\n",
    "print (\"Car loans default precent: {:.2f} %\".format((403/4306)*100))\n",
    "print (\"Education loans default precent: {:.2f} %\".format((370/4013)*100))\n",
    "print (\"Real estate loans default precent: {:.2f} %\".format((782/10811)*100))\n",
    "print (\"Wedding loans default precent: {:.2f} %\".format((186/2324)*100))"
   ]
  },
  {
   "cell_type": "markdown",
   "metadata": {},
   "source": []
  },
  {
   "cell_type": "markdown",
   "metadata": {},
   "source": [
    "### Step 4. General conclusion"
   ]
  },
  {
   "cell_type": "markdown",
   "metadata": {},
   "source": [
    "In general, married individuals seemed to be more stable and default less.  Perhaps it's because their financial situations are \n",
    "generally more stable.  Perhaps it's because they have more than one income coming into the home.  And perhaps it's because \n",
    "they simply have more to lose by defaulting.  However, individuals with children did default more which is most likely attributable to the cost of raising children.  Sometimes food, medicine and clothes have to come first.  "
   ]
  },
  {
   "cell_type": "code",
   "execution_count": 25,
   "metadata": {},
   "outputs": [
    {
     "name": "stdout",
     "output_type": "stream",
     "text": [
      "Didn't pay debt (Default)\n",
      "=====================\n",
      "                      sum                                        \n",
      "                     debt                                        \n",
      "married_status    married               non-married              \n",
      "Has Child      With Child Without Child  With Child Without Child\n",
      "income_level                                                     \n",
      "high_income             1             2           0             3\n",
      "low_income            335           430         224           462\n",
      "mid_income             78            85          39            82\n",
      "Total in each group\n",
      "=====================\n",
      "                    count                                        \n",
      "                     debt                                        \n",
      "married_status    married               non-married              \n",
      "Has Child      With Child Without Child  With Child Without Child\n",
      "income_level                                                     \n",
      "high_income            29            30          16            24\n",
      "low_income           3852          6088        2008          5440\n",
      "mid_income            961          1379         450          1177\n"
     ]
    }
   ],
   "source": [
    "low_income = 35000\n",
    "upper_income = 100000\n",
    "\n",
    "def income_class_split(row):\n",
    "    \n",
    "    income = row['total_income']\n",
    "    if income <= low_income:\n",
    "        return \"low_income\"\n",
    "    elif (income > low_income) & (income < upper_income):\n",
    "        return \"mid_income\"\n",
    "    else: \n",
    "        return \"high_income\"\n",
    "\n",
    "credit_score['income_level'] = credit_score.apply(income_class_split, axis = 1)  \n",
    "\n",
    "def married_status_split(row):\n",
    "    \n",
    "    income = row['family_status']\n",
    "    if income in 'married':\n",
    "        return 'married'\n",
    "    else:\n",
    "        return 'non-married'\n",
    "    \n",
    "credit_score['married_status'] = credit_score.apply(married_status_split, axis = 1)\n",
    "############################################\n",
    "credit_score['no_debt'] = 1-credit_score['debt']\n",
    "data_pivot_debt = credit_score.pivot_table(index=[ 'income_level'], columns = ['married_status', 'Has Child'], values=['debt'],\\\n",
    "                                       aggfunc=[\"sum\"] )\n",
    "data_pivot_total = credit_score.pivot_table(index=[ 'income_level'], columns = ['married_status', 'Has Child'], values=['debt'],\\\n",
    "                                       aggfunc=[\"count\"] )\n",
    "print (\"Didn't pay debt (Default)\\n=====================\")\n",
    "print(data_pivot_debt)\n",
    "print (\"Total in each group\\n=====================\")\n",
    "print(data_pivot_total)\n"
   ]
  },
  {
   "cell_type": "markdown",
   "metadata": {},
   "source": [
    "<div class=\"alert alert-block alert-danger\">\n",
    "Please prove this with code :)\n",
    "</div>"
   ]
  },
  {
   "cell_type": "markdown",
   "metadata": {},
   "source": [
    "again, I feel like this pivot table is a disaster.  "
   ]
  },
  {
   "cell_type": "markdown",
   "metadata": {},
   "source": []
  },
  {
   "cell_type": "markdown",
   "metadata": {},
   "source": [
    "### Project Readiness Checklist\n",
    "\n",
    "Put 'x' in the completed points. Then press Shift + Enter."
   ]
  },
  {
   "cell_type": "markdown",
   "metadata": {},
   "source": [
    "- [x]  file open;\n",
    "- [ ]  file examined;\n",
    "- [ ]  missing values defined;\n",
    "- [ ]  missing values are filled;\n",
    "- [ ]  an explanation of which missing value types were detected;\n",
    "- [ ]  explanation for the possible causes of missing values;\n",
    "- [ ]  an explanation of how the blanks are filled;\n",
    "- [ ]  replaced the real data type with an integer;\n",
    "- [ ]  an explanation of which method is used to change the data type and why;\n",
    "- [ ]  duplicates deleted;\n",
    "- [ ]  an explanation of which method is used to find and remove duplicates;\n",
    "- [ ]  description of the possible reasons for the appearance of duplicates in the data;\n",
    "- [ ]  data is categorized;\n",
    "- [ ]  an explanation of the principle of data categorization;\n",
    "- [ ]  an answer to the question \"Is there a relation between having kids and repaying a loan on time?\";\n",
    "- [ ]  an answer to the question \" Is there a relation between marital status and repaying a loan on time?\";\n",
    "- [ ]   an answer to the question \" Is there a relation between income level and repaying a loan on time?\";\n",
    "- [ ]  an answer to the question \" How do different loan purposes affect on-time repayment of the loan?\"\n",
    "- [ ]  conclusions are present on each stage;\n",
    "- [ ]  a general conclusion is made."
   ]
  },
  {
   "cell_type": "markdown",
   "metadata": {},
   "source": [
    "I have tried checking the boxes but can't get it to work.  I'm not sure what I'm doing wrong.  "
   ]
  },
  {
   "cell_type": "markdown",
   "metadata": {},
   "source": [
    "<div class=\"alert alert-block alert-danger\">\n",
    "Please fill in this one to check yourself if you have done everything!\n",
    "</div>"
   ]
  },
  {
   "cell_type": "markdown",
   "metadata": {},
   "source": [
    "<div class=\"alert alert-block alert-success\">\n",
    "We are on to a great start! I really liked the ideas behind your analysis and think once you are able to fix the issues I have found, the work would be great.\n",
    "</div>"
   ]
  }
 ],
 "metadata": {
  "kernelspec": {
   "display_name": "Python 3",
   "language": "python",
   "name": "python3"
  },
  "language_info": {
   "codemirror_mode": {
    "name": "ipython",
    "version": 3
   },
   "file_extension": ".py",
   "mimetype": "text/x-python",
   "name": "python",
   "nbconvert_exporter": "python",
   "pygments_lexer": "ipython3",
   "version": "3.7.8"
  },
  "toc": {
   "base_numbering": 1,
   "nav_menu": {},
   "number_sections": true,
   "sideBar": true,
   "skip_h1_title": true,
   "title_cell": "Table of Contents",
   "title_sidebar": "Contents",
   "toc_cell": false,
   "toc_position": {},
   "toc_section_display": true,
   "toc_window_display": false
  }
 },
 "nbformat": 4,
 "nbformat_minor": 2
}
